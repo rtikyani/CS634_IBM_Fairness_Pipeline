{
  "nbformat": 4,
  "nbformat_minor": 0,
  "metadata": {
    "colab": {
      "name": "CS634_Project1_Team3",
      "provenance": [],
      "collapsed_sections": [],
      "toc_visible": true,
      "include_colab_link": true
    },
    "kernelspec": {
      "name": "python3",
      "display_name": "Python 3"
    }
  },
  "cells": [
    {
      "cell_type": "markdown",
      "metadata": {
        "id": "view-in-github",
        "colab_type": "text"
      },
      "source": [
        "<a href=\"https://colab.research.google.com/github/rtikyani/CS634_IBM_Fairness_Pipeline/blob/master/CS634_Project1_Team3.ipynb\" target=\"_parent\"><img src=\"https://colab.research.google.com/assets/colab-badge.svg\" alt=\"Open In Colab\"/></a>"
      ]
    },
    {
      "cell_type": "markdown",
      "metadata": {
        "id": "iMzUNRDqsmn3",
        "colab_type": "text"
      },
      "source": [
        "# Tutorial summary of the pipeline in a markdown file:\n",
        "\n",
        "# [**Summary.md**](https://github.com/rtikyani/CS634_IBM_Fairness_Pipeline/blob/master/README.md)\n",
        "\n"
      ]
    },
    {
      "cell_type": "markdown",
      "metadata": {
        "colab_type": "text",
        "id": "v0PzTiEmsuNc"
      },
      "source": [
        "# Execute the credit decision pipeline that is detecting age bias and removing using the reweighting algorithm and explain the findings:"
      ]
    },
    {
      "cell_type": "code",
      "metadata": {
        "id": "donO-W34jFMe",
        "colab_type": "code",
        "colab": {
          "base_uri": "https://localhost:8080/",
          "height": 130
        },
        "outputId": "551a1b3c-f5ea-49c4-e445-2284a7f56cda"
      },
      "source": [
        "#Part 2\n",
        "\n",
        "#install all necessary libraries and modules\n",
        "!pip install aif360\n",
        "!pip install IPython\n",
        "!pip install BlackBoxAuditing\n",
        "!pip install wget\n",
        "\n",
        "\n",
        "#Retrieve Necessary Files \n",
        "import os\n",
        "os.chdir('/usr/local/lib/python3.6/dist-packages/aif360/data/raw/german')\n",
        "!wget -q\thttps://archive.ics.uci.edu/ml/machine-learning-databases/statlog/german/german.data\n",
        "!wget -q\thttps://archive.ics.uci.edu/ml/machine-learning-databases/statlog/german/german.doc\n",
        "\n",
        "\n",
        "#import the Methods used from aif360\n",
        "from aif360.datasets import GermanDataset\n",
        "from aif360.metrics import BinaryLabelDatasetMetric\n",
        "from aif360.algorithms.preprocessing import Reweighing\n",
        "\n",
        "from IPython.display import Markdown, display\n",
        "\n",
        "#Loading dataset\n",
        "dataset_orig = GermanDataset(\n",
        "    protected_attribute_names=['age'],           # this dataset also contains protected\n",
        "                                                 # attribute for \"sex\" which we do not\n",
        "                                                 # consider in this evaluation\n",
        "    privileged_classes=[lambda x: x >= 25],      # age >=25 is considered privileged\n",
        "    features_to_drop=['personal_status', 'sex'] # ignore sex-related attributes\n",
        ")\n",
        "\n",
        "dataset_orig_train, dataset_orig_test = dataset_orig.split([0.7], shuffle=True)\n",
        "privileged_groups = [{'age': 1}]\n",
        "unprivileged_groups = [{'age': 0}]\n",
        "\n",
        "#Metric for original data set\n",
        "metric_orig_train = BinaryLabelDatasetMetric(dataset_orig_train, \n",
        "                                             unprivileged_groups=unprivileged_groups,\n",
        "                                             privileged_groups=privileged_groups)\n",
        "display(Markdown(\"#### Original training dataset\"))\n",
        "print(\"Difference in mean outcomes between unprivileged and privileged groups = %f\" % metric_orig_train.mean_difference())\n",
        "\n",
        "#Applying Reweighing Pre-Processing method to mitigate the bias\n",
        "\n",
        "#Train with and transform the original training data\n",
        "RW = Reweighing(unprivileged_groups=unprivileged_groups,\n",
        "                privileged_groups=privileged_groups)\n",
        "dataset_transf_train = RW.fit_transform(dataset_orig_train)\n",
        "\n",
        "# Metric with the transformed training data\n",
        "\n",
        "metric_transf_train = BinaryLabelDatasetMetric(dataset_transf_train, \n",
        "                                               unprivileged_groups=unprivileged_groups,\n",
        "                                               privileged_groups=privileged_groups)\n",
        "display(Markdown(\"#### Transformed training dataset\"))\n",
        "print(\"Difference in mean outcomes between unprivileged and privileged groups = %f\" % metric_transf_train.mean_difference())"
      ],
      "execution_count": null,
      "outputs": [
        {
          "output_type": "display_data",
          "data": {
            "text/markdown": "#### Original training dataset",
            "text/plain": [
              "<IPython.core.display.Markdown object>"
            ]
          },
          "metadata": {
            "tags": []
          }
        },
        {
          "output_type": "stream",
          "text": [
            "Difference in mean outcomes between unprivileged and privileged groups = -0.169905\n"
          ],
          "name": "stdout"
        },
        {
          "output_type": "display_data",
          "data": {
            "text/markdown": "#### Transformed training dataset",
            "text/plain": [
              "<IPython.core.display.Markdown object>"
            ]
          },
          "metadata": {
            "tags": []
          }
        },
        {
          "output_type": "stream",
          "text": [
            "Difference in mean outcomes between unprivileged and privileged groups = 0.000000\n"
          ],
          "name": "stdout"
        }
      ]
    },
    {
      "cell_type": "markdown",
      "metadata": {
        "id": "fhqy7qZr3_27",
        "colab_type": "text"
      },
      "source": [
        "# Findings:"
      ]
    },
    {
      "cell_type": "markdown",
      "metadata": {
        "id": "KslImDfJznGh",
        "colab_type": "text"
      },
      "source": [
        "[OUTPUT]: \n",
        "\n",
        "**Original training dataset**: Difference in mean outcomes between unprivileged and privileged groups = -0.169905 \n",
        "\n",
        "**Transformed training dataset**: Difference in mean outcomes between unprivileged and privileged groups = 0.000000\n",
        "\n",
        "**Explanation:**\n",
        "\n",
        "Protected Attribute: Age\n",
        "Attributes not accounted for: Sex & Personal Status\n"
      ]
    },
    {
      "cell_type": "markdown",
      "metadata": {
        "colab_type": "text",
        "id": "wYrz8pjis1RK"
      },
      "source": [
        "# **Using [Disparate Impact Remover](https://aif360.readthedocs.io/en/latest/modules/generated/aif360.algorithms.preprocessing.DisparateImpactRemover.html#aif360.algorithms.preprocessing.DisparateImpactRemover)** for detecting and removing bias.\n"
      ]
    },
    {
      "cell_type": "code",
      "metadata": {
        "id": "6hfEBpuDIUDY",
        "colab_type": "code",
        "colab": {
          "base_uri": "https://localhost:8080/",
          "height": 818
        },
        "cellView": "code",
        "outputId": "acba9819-bb7f-4496-dced-07bd209f8e5d"
      },
      "source": [
        "#Part 3\n",
        "\n",
        "#install all necessary libraries and modules\n",
        "!pip install aif360\n",
        "!pip install IPython\n",
        "!pip install BlackBoxAuditing\n",
        "!pip install wget\n",
        "\n",
        "\n",
        "#Retrieve Necessary Files \n",
        "import os\n",
        "os.chdir('/usr/local/lib/python3.6/dist-packages/aif360/data/raw/german')\n",
        "!wget -q\thttps://archive.ics.uci.edu/ml/machine-learning-databases/statlog/german/german.data\n",
        "!wget -q\thttps://archive.ics.uci.edu/ml/machine-learning-databases/statlog/german/german.doc\n",
        "\n",
        "\n",
        "#import the Methods used from aif360\n",
        "from aif360.datasets import GermanDataset\n",
        "from aif360.metrics import BinaryLabelDatasetMetric\n",
        "from aif360.algorithms.preprocessing import Reweighing\n",
        "\n",
        "from IPython.display import Markdown, display\n",
        "\n",
        "#Loading dataset\n",
        "dataset_orig = GermanDataset(\n",
        "    protected_attribute_names=['age'],           # this dataset also contains protected\n",
        "                                                 # attribute for \"sex\" which we do not\n",
        "                                                 # consider in this evaluation\n",
        "    privileged_classes=[lambda x: x >= 25],      # age >=25 is considered privileged\n",
        "    features_to_drop=['personal_status', 'sex'] # ignore sex-related attributes\n",
        ")\n",
        "\n",
        "dataset_orig_train, dataset_orig_test = dataset_orig.split([0.7], shuffle=True)\n",
        "privileged_groups = [{'age': 1}]\n",
        "unprivileged_groups = [{'age': 0}]\n",
        "\n",
        "#Metric for original data set\n",
        "metric_orig_train = BinaryLabelDatasetMetric(dataset_orig_train, \n",
        "                                             unprivileged_groups=unprivileged_groups,\n",
        "                                             privileged_groups=privileged_groups)\n",
        "display(Markdown(\"#### Original training dataset\"))\n",
        "print(\"Difference in mean outcomes between unprivileged and privileged groups = %f\" % metric_orig_train.mean_difference())\n",
        "\n",
        "\n",
        "#Using Disparate Impact Remover PreProcessor Method  \n",
        "\n",
        "#repair_level - Repair amount\n",
        "#0.0 = no repair \n",
        "#1.0 is full repair.\n",
        "DIR = DisparateImpactRemover(repair_level = 1.0)\n",
        "\n",
        "#Run a repairer on the non-protected features and return the transformed dataset.\n",
        "dataset_transf_DIR = DIR.fit_transform(dataset_orig_train)\n",
        "\n",
        "\n",
        "dataset_transf_DIR_train, dataset_transf_DR_test, = dataset_transf_DIR.split([0.7], shuffle=True)\n",
        "\n",
        "metric_DIR_train = BinaryLabelDatasetMetric(dataset_transf_DIR_train, unprivileged_groups=unprivileged_groups, privileged_groups=privileged_groups)\n",
        "\n",
        "display(Markdown(\"#### Transformed training dataset using Disparate Impact Remover PreProcessor Method\"))\n",
        "\n",
        "print(\"Difference in mean outcomes between unprivileged and privileged groups = %f\" % metric_DIR_train.mean_difference())\n"
      ],
      "execution_count": 2,
      "outputs": [
        {
          "output_type": "stream",
          "text": [
            "Collecting aif360\n",
            "\u001b[?25l  Downloading https://files.pythonhosted.org/packages/3b/e9/f2a936a00c65ce7b4d45587a33c4522fabd773f7325d505a87d133a1dabc/aif360-0.3.0-py3-none-any.whl (165kB)\n",
            "\r\u001b[K     |██                              | 10kB 14.5MB/s eta 0:00:01\r\u001b[K     |████                            | 20kB 1.8MB/s eta 0:00:01\r\u001b[K     |██████                          | 30kB 2.4MB/s eta 0:00:01\r\u001b[K     |████████                        | 40kB 2.6MB/s eta 0:00:01\r\u001b[K     |██████████                      | 51kB 2.0MB/s eta 0:00:01\r\u001b[K     |███████████▉                    | 61kB 2.3MB/s eta 0:00:01\r\u001b[K     |█████████████▉                  | 71kB 2.5MB/s eta 0:00:01\r\u001b[K     |███████████████▉                | 81kB 2.7MB/s eta 0:00:01\r\u001b[K     |█████████████████▉              | 92kB 2.9MB/s eta 0:00:01\r\u001b[K     |███████████████████▉            | 102kB 2.8MB/s eta 0:00:01\r\u001b[K     |█████████████████████▊          | 112kB 2.8MB/s eta 0:00:01\r\u001b[K     |███████████████████████▊        | 122kB 2.8MB/s eta 0:00:01\r\u001b[K     |█████████████████████████▊      | 133kB 2.8MB/s eta 0:00:01\r\u001b[K     |███████████████████████████▊    | 143kB 2.8MB/s eta 0:00:01\r\u001b[K     |█████████████████████████████▊  | 153kB 2.8MB/s eta 0:00:01\r\u001b[K     |███████████████████████████████▋| 163kB 2.8MB/s eta 0:00:01\r\u001b[K     |████████████████████████████████| 174kB 2.8MB/s \n",
            "\u001b[?25hRequirement already satisfied: scikit-learn>=0.21 in /usr/local/lib/python3.6/dist-packages (from aif360) (0.22.2.post1)\n",
            "Requirement already satisfied: numpy>=1.16 in /usr/local/lib/python3.6/dist-packages (from aif360) (1.18.5)\n",
            "Requirement already satisfied: scipy>=1.2.0 in /usr/local/lib/python3.6/dist-packages (from aif360) (1.4.1)\n",
            "Requirement already satisfied: matplotlib in /usr/local/lib/python3.6/dist-packages (from aif360) (3.2.1)\n",
            "Requirement already satisfied: pandas>=0.24.0 in /usr/local/lib/python3.6/dist-packages (from aif360) (1.0.4)\n",
            "Requirement already satisfied: joblib>=0.11 in /usr/local/lib/python3.6/dist-packages (from scikit-learn>=0.21->aif360) (0.15.1)\n",
            "Requirement already satisfied: kiwisolver>=1.0.1 in /usr/local/lib/python3.6/dist-packages (from matplotlib->aif360) (1.2.0)\n",
            "Requirement already satisfied: pyparsing!=2.0.4,!=2.1.2,!=2.1.6,>=2.0.1 in /usr/local/lib/python3.6/dist-packages (from matplotlib->aif360) (2.4.7)\n",
            "Requirement already satisfied: cycler>=0.10 in /usr/local/lib/python3.6/dist-packages (from matplotlib->aif360) (0.10.0)\n",
            "Requirement already satisfied: python-dateutil>=2.1 in /usr/local/lib/python3.6/dist-packages (from matplotlib->aif360) (2.8.1)\n",
            "Requirement already satisfied: pytz>=2017.2 in /usr/local/lib/python3.6/dist-packages (from pandas>=0.24.0->aif360) (2018.9)\n",
            "Requirement already satisfied: six in /usr/local/lib/python3.6/dist-packages (from cycler>=0.10->matplotlib->aif360) (1.12.0)\n",
            "Installing collected packages: aif360\n",
            "Successfully installed aif360-0.3.0\n"
          ],
          "name": "stdout"
        },
        {
          "output_type": "display_data",
          "data": {
            "text/markdown": "#### Original training dataset",
            "text/plain": [
              "<IPython.core.display.Markdown object>"
            ]
          },
          "metadata": {
            "tags": []
          }
        },
        {
          "output_type": "stream",
          "text": [
            "Difference in mean outcomes between unprivileged and privileged groups = -0.095783\n"
          ],
          "name": "stdout"
        },
        {
          "output_type": "error",
          "ename": "ModuleNotFoundError",
          "evalue": "ignored",
          "traceback": [
            "\u001b[0;31m---------------------------------------------------------------------------\u001b[0m",
            "\u001b[0;31mModuleNotFoundError\u001b[0m                       Traceback (most recent call last)",
            "\u001b[0;32m<ipython-input-2-bcfba77fdfe3>\u001b[0m in \u001b[0;36m<module>\u001b[0;34m()\u001b[0m\n\u001b[1;32m     40\u001b[0m \u001b[0;31m#USING REWEIGHTING ALGORITHMS\u001b[0m\u001b[0;34m\u001b[0m\u001b[0;34m\u001b[0m\u001b[0;34m\u001b[0m\u001b[0m\n\u001b[1;32m     41\u001b[0m \u001b[0;31m#Disparate Impact Remover PreProcessor Method\u001b[0m\u001b[0;34m\u001b[0m\u001b[0;34m\u001b[0m\u001b[0;34m\u001b[0m\u001b[0m\n\u001b[0;32m---> 42\u001b[0;31m \u001b[0mDIR\u001b[0m \u001b[0;34m=\u001b[0m \u001b[0mDisparateImpactRemover\u001b[0m\u001b[0;34m(\u001b[0m\u001b[0mrepair_level\u001b[0m \u001b[0;34m=\u001b[0m \u001b[0;36m1.0\u001b[0m\u001b[0;34m)\u001b[0m\u001b[0;34m\u001b[0m\u001b[0;34m\u001b[0m\u001b[0m\n\u001b[0m\u001b[1;32m     43\u001b[0m \u001b[0;34m\u001b[0m\u001b[0m\n\u001b[1;32m     44\u001b[0m \u001b[0mdataset_transf_DIR\u001b[0m \u001b[0;34m=\u001b[0m \u001b[0mDIR\u001b[0m\u001b[0;34m.\u001b[0m\u001b[0mfit_transform\u001b[0m\u001b[0;34m(\u001b[0m\u001b[0mdataset_orig_train\u001b[0m\u001b[0;34m)\u001b[0m\u001b[0;34m\u001b[0m\u001b[0;34m\u001b[0m\u001b[0m\n",
            "\u001b[0;32m/usr/local/lib/python3.6/dist-packages/aif360/algorithms/preprocessing/disparate_impact_remover.py\u001b[0m in \u001b[0;36m__init__\u001b[0;34m(self, repair_level, sensitive_attribute)\u001b[0m\n\u001b[1;32m     27\u001b[0m         \u001b[0;31m# avoid importing early since this package can throw warnings in some\u001b[0m\u001b[0;34m\u001b[0m\u001b[0;34m\u001b[0m\u001b[0;34m\u001b[0m\u001b[0m\n\u001b[1;32m     28\u001b[0m         \u001b[0;31m# jupyter notebooks\u001b[0m\u001b[0;34m\u001b[0m\u001b[0;34m\u001b[0m\u001b[0;34m\u001b[0m\u001b[0m\n\u001b[0;32m---> 29\u001b[0;31m         \u001b[0;32mfrom\u001b[0m \u001b[0mBlackBoxAuditing\u001b[0m\u001b[0;34m.\u001b[0m\u001b[0mrepairers\u001b[0m\u001b[0;34m.\u001b[0m\u001b[0mGeneralRepairer\u001b[0m \u001b[0;32mimport\u001b[0m \u001b[0mRepairer\u001b[0m\u001b[0;34m\u001b[0m\u001b[0;34m\u001b[0m\u001b[0m\n\u001b[0m\u001b[1;32m     30\u001b[0m         \u001b[0mself\u001b[0m\u001b[0;34m.\u001b[0m\u001b[0mRepairer\u001b[0m \u001b[0;34m=\u001b[0m \u001b[0mRepairer\u001b[0m\u001b[0;34m\u001b[0m\u001b[0;34m\u001b[0m\u001b[0m\n\u001b[1;32m     31\u001b[0m \u001b[0;34m\u001b[0m\u001b[0m\n",
            "\u001b[0;31mModuleNotFoundError\u001b[0m: No module named 'BlackBoxAuditing'",
            "",
            "\u001b[0;31m---------------------------------------------------------------------------\u001b[0;32m\nNOTE: If your import is failing due to a missing package, you can\nmanually install dependencies using either !pip or !apt.\n\nTo view examples of installing some common dependencies, click the\n\"Open Examples\" button below.\n\u001b[0;31m---------------------------------------------------------------------------\u001b[0m\n"
          ]
        }
      ]
    },
    {
      "cell_type": "markdown",
      "metadata": {
        "colab_type": "text",
        "id": "Id2EfMVhs__n"
      },
      "source": [
        "# Findings using Disparate Impact Remover"
      ]
    },
    {
      "cell_type": "markdown",
      "metadata": {
        "id": "yBCZ4ciT2FPC",
        "colab_type": "text"
      },
      "source": [
        "The alternate method used was Disparate Impact Remover method. This is a different Pre-Processing technique which falls in the aif360 library. \n",
        "\n",
        "**Results:**\n",
        "\n",
        "**Original training dataset:**\n",
        "Difference in mean outcomes between unprivileged and privileged groups = -0.169905\n",
        "\n",
        "**Transformed training dataset using Disparate Impact Remover PreProcessor Method:**\n",
        "Difference in mean outcomes between unprivileged and privileged groups = -0.177184\n",
        "\n",
        "Using the Disparate Impact Remover method, the difference in mean outcome between unprivileged and privileged groups was -0.177184 -- a **greater** difference than using the Reweighing method. \n",
        "\n",
        "This demonstrates that although multiple techniques can be utilized for PreProcessing data, not all will be optimal.The reason being the different methods have unique algorithmic approaches. Like the Reweighing method, the DIR method aims to increases group fairness but does this while prioritizing preserving rank-ordering within groups. On the other hand, the Reweighing technique calculates the weight of each combination of a group and label to ensure fairness. For this dataset, the Reweighing method proved to be optimal as it transformed the dataset and mitigated the fairness to reach a difference in mean outcome of 0.00. Since age \n",
        "\n"
      ]
    }
  ]
}